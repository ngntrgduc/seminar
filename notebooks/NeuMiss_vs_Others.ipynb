{
  "nbformat": 4,
  "nbformat_minor": 0,
  "metadata": {
    "colab": {
      "provenance": [],
      "toc_visible": true,
      "collapsed_sections": [
        "j7cPnQdhIe0C"
      ]
    },
    "kernelspec": {
      "name": "python3",
      "display_name": "Python 3"
    },
    "language_info": {
      "name": "python"
    }
  },
  "cells": [
    {
      "cell_type": "markdown",
      "source": [
        "# Import libraries"
      ],
      "metadata": {
        "id": "AWs__NdmnLeK"
      }
    },
    {
      "cell_type": "code",
      "source": [
        "!pip install fancyimpute -q"
      ],
      "metadata": {
        "id": "R07MOL3EjV30",
        "colab": {
          "base_uri": "https://localhost:8080/"
        },
        "outputId": "4a1348df-7d59-4075-cfd7-7c605b970747"
      },
      "execution_count": 1,
      "outputs": [
        {
          "output_type": "stream",
          "name": "stdout",
          "text": [
            "  Preparing metadata (setup.py) ... \u001b[?25l\u001b[?25hdone\n",
            "  Building wheel for knnimpute (setup.py) ... \u001b[?25l\u001b[?25hdone\n"
          ]
        }
      ]
    },
    {
      "cell_type": "code",
      "source": [
        "import numpy as np\n",
        "import matplotlib.pyplot as plt\n",
        "import seaborn as sns\n",
        "import pandas as pd\n",
        "\n",
        "from sklearn.linear_model import LinearRegression\n",
        "from sklearn.utils.validation import check_random_state\n",
        "from sklearn.model_selection import train_test_split\n",
        "from sklearn.experimental import enable_iterative_imputer\n",
        "from sklearn.impute import SimpleImputer, KNNImputer, IterativeImputer\n",
        "from sklearn.metrics import r2_score\n",
        "\n",
        "from time import perf_counter"
      ],
      "metadata": {
        "id": "UxhJR2OWujUS"
      },
      "execution_count": 2,
      "outputs": []
    },
    {
      "cell_type": "code",
      "source": [
        "# Set print format\n",
        "np.set_printoptions(\n",
        "    precision=4,\n",
        "    suppress=True\n",
        ")\n",
        "\n",
        "# seed for reproducibility\n",
        "seed = 0"
      ],
      "metadata": {
        "id": "3lfLzkPN2-BE"
      },
      "execution_count": 3,
      "outputs": []
    },
    {
      "cell_type": "markdown",
      "source": [
        "# Generate Dataset"
      ],
      "metadata": {
        "id": "5xdpAcTmnONA"
      }
    },
    {
      "cell_type": "code",
      "source": [
        "from math import sqrt\n",
        "\n",
        "def generate_dataset(\n",
        "        n : int = 10000,\n",
        "        d : int = 10,\n",
        "        seed : int = 0,\n",
        "        missing_rate : float = 0.5,\n",
        "        test_size: float = 0.1\n",
        "    ):\n",
        "    \"\"\"Generate synthesis dataset\"\"\"\n",
        "    # Set random seed for reproducible\n",
        "    rng = check_random_state(seed)\n",
        "\n",
        "    # Parameters of Gaussian data\n",
        "    B = rng.randn(d, d//2)\n",
        "    cov = B.dot(B.T) + np.diag(rng.uniform(low=0.01, high=0.1, size=d))\n",
        "\n",
        "    mean = rng.randn(d)\n",
        "\n",
        "    # Generate Gaussian data\n",
        "    X = rng.multivariate_normal(mean=mean, cov=cov, size=n, check_valid='raise')\n",
        "\n",
        "    # Generate y\n",
        "    beta = np.repeat(1., d + 1)\n",
        "    var = beta[1:].dot(cov).dot(beta[1:])\n",
        "    beta[1:] *= 1/sqrt(var)\n",
        "    y = X.dot(beta[1:]) + beta[0]\n",
        "\n",
        "    snr = 10\n",
        "    noise = rng.normal(loc=0, scale=sqrt(np.var(y)/snr), size=n)\n",
        "    y += noise\n",
        "\n",
        "    # Add missing values, MCAR\n",
        "    missing_rate = 0.5\n",
        "    ber = rng.rand(n, d)\n",
        "    mask = ber < missing_rate\n",
        "    np.putmask(X, mask, np.nan)\n",
        "\n",
        "    X_train, X_test, y_train, y_test = train_test_split(\n",
        "        X, y, test_size=test_size, random_state=rng\n",
        "    )\n",
        "    return X_train, X_test, y_train, y_test"
      ],
      "metadata": {
        "id": "fMHcpOdRna_M"
      },
      "execution_count": 4,
      "outputs": []
    },
    {
      "cell_type": "code",
      "source": [
        "# Dataset with 10000 samples, 10 features and has missing rate 50% (MCAR)\n",
        "n = 10000  # number of samples\n",
        "d = 10  # number of features\n",
        "X_train, X_test, y_train, y_test = generate_dataset(n=n, d=d, missing_rate=0.5)"
      ],
      "metadata": {
        "id": "nYqvQxPs2xry"
      },
      "execution_count": 5,
      "outputs": []
    },
    {
      "cell_type": "code",
      "source": [
        "def simulate(imputer, lr) -> None:\n",
        "    start = perf_counter()\n",
        "    X_train_imputed = imputer.fit_transform(X_train)\n",
        "    lr.fit(X_train_imputed, y_train)\n",
        "\n",
        "    # Training set evaluation\n",
        "    y_train_pred = lr.predict(X_train_imputed)\n",
        "    r2_train = r2_score(y_train, y_train_pred)\n",
        "\n",
        "    # Test set evaluation\n",
        "    X_test_imputed = imputer.fit_transform(X_test)\n",
        "    y_test_pred = lr.predict(X_test_imputed)\n",
        "    r2_test = r2_score(y_test, y_test_pred)\n",
        "\n",
        "    print(f' - R2 score on training set: {r2_train:.4f}')\n",
        "    print(f' - R2 score on test set: {r2_test:.4f}')\n",
        "    print(f' - Took {(perf_counter() - start):.4f}s')"
      ],
      "metadata": {
        "id": "a1SX1aGOJuTS"
      },
      "execution_count": 6,
      "outputs": []
    },
    {
      "cell_type": "markdown",
      "source": [
        "# KNN Imputation"
      ],
      "metadata": {
        "id": "bO5OKE3n3VhY"
      }
    },
    {
      "cell_type": "code",
      "source": [
        "n_neighbors = [5, 10, 100, 1000, 5000, n - 100, n]\n",
        "for n_neighbor in n_neighbors:\n",
        "    print(f'KNN-{n_neighbor} imputation + LR: ')\n",
        "    simulate(\n",
        "        KNNImputer(n_neighbors=n_neighbor),\n",
        "        LinearRegression()\n",
        "    )"
      ],
      "metadata": {
        "colab": {
          "base_uri": "https://localhost:8080/"
        },
        "id": "gpx0EX5ZOmUY",
        "outputId": "f602a2c0-9c65-4710-eceb-5a35c895c6a0"
      },
      "execution_count": 7,
      "outputs": [
        {
          "output_type": "stream",
          "name": "stdout",
          "text": [
            "KNN-5 imputation + LR: \n",
            " - R2 score on training set: 0.6224\n",
            " - R2 score on test set: 0.6191\n",
            " - Took 16.8913s\n",
            "KNN-10 imputation + LR: \n",
            " - R2 score on training set: 0.6529\n",
            " - R2 score on test set: 0.6587\n",
            " - Took 18.6717s\n",
            "KNN-100 imputation + LR: \n",
            " - R2 score on training set: 0.6929\n",
            " - R2 score on test set: 0.7018\n",
            " - Took 12.6683s\n",
            "KNN-1000 imputation + LR: \n",
            " - R2 score on training set: 0.7091\n",
            " - R2 score on test set: 0.6372\n",
            " - Took 15.8950s\n",
            "KNN-5000 imputation + LR: \n",
            " - R2 score on training set: 0.6573\n",
            " - R2 score on test set: 0.6472\n",
            " - Took 20.6401s\n",
            "KNN-9900 imputation + LR: \n",
            " - R2 score on training set: 0.6573\n",
            " - R2 score on test set: 0.6472\n",
            " - Took 24.5570s\n",
            "KNN-10000 imputation + LR: \n",
            " - R2 score on training set: 0.6573\n",
            " - R2 score on test set: 0.6472\n",
            " - Took 25.8276s\n"
          ]
        }
      ]
    },
    {
      "cell_type": "markdown",
      "source": [
        "# Simple Impute"
      ],
      "metadata": {
        "id": "UODRM_8D8RUP"
      }
    },
    {
      "cell_type": "code",
      "source": [
        "strategies = ['mean', 'median', 'most_frequent', 'constant']\n",
        "for strategy in strategies:\n",
        "    print(f'Simple imputation ({strategy}) + LR: ')\n",
        "    simulate(\n",
        "        SimpleImputer(strategy=strategy),\n",
        "        LinearRegression()\n",
        "    )"
      ],
      "metadata": {
        "colab": {
          "base_uri": "https://localhost:8080/"
        },
        "id": "2wO4qOQoPQ__",
        "outputId": "3d4b23bb-16bc-403d-8689-972959dd73d0"
      },
      "execution_count": 8,
      "outputs": [
        {
          "output_type": "stream",
          "name": "stdout",
          "text": [
            "Simple imputation (mean) + LR: \n",
            " - R2 score on training set: 0.6574\n",
            " - R2 score on test set: 0.6478\n",
            " - Took 0.0855s\n",
            "Simple imputation (median) + LR: \n",
            " - R2 score on training set: 0.6573\n",
            " - R2 score on test set: 0.6446\n",
            " - Took 0.1279s\n",
            "Simple imputation (most_frequent) + LR: \n",
            " - R2 score on training set: 0.1509\n",
            " - R2 score on test set: 0.1756\n",
            " - Took 0.1528s\n",
            "Simple imputation (constant) + LR: \n",
            " - R2 score on training set: 0.6489\n",
            " - R2 score on test set: 0.6345\n",
            " - Took 0.0949s\n"
          ]
        }
      ]
    },
    {
      "cell_type": "markdown",
      "source": [
        "# SoftImpute"
      ],
      "metadata": {
        "id": "TlOAMSZi3hoa"
      }
    },
    {
      "cell_type": "code",
      "source": [
        "import warnings\n",
        "warnings.filterwarnings('ignore')\n",
        "\n",
        "from fancyimpute import SoftImpute\n",
        "\n",
        "start = perf_counter()\n",
        "regularization_values = [0.1, 1, 10, 100]\n",
        "for regularization in regularization_values:\n",
        "    print(f'SoftImpute with lambda={regularization} + LR:')\n",
        "    simulate(\n",
        "        SoftImpute(shrinkage_value=regularization, verbose=False),\n",
        "        LinearRegression()\n",
        "    )"
      ],
      "metadata": {
        "id": "iNYTwCUu3mc-",
        "colab": {
          "base_uri": "https://localhost:8080/"
        },
        "outputId": "3e7fe42e-9513-4d58-809b-f68fcd802e18"
      },
      "execution_count": 9,
      "outputs": [
        {
          "output_type": "stream",
          "name": "stdout",
          "text": [
            "SoftImpute with lambda=0.1 + LR:\n",
            " - R2 score on training set: 0.6535\n",
            " - R2 score on test set: 0.6479\n",
            " - Took 2.2479s\n",
            "SoftImpute with lambda=1 + LR:\n",
            " - R2 score on training set: 0.6869\n",
            " - R2 score on test set: 0.7061\n",
            " - Took 2.4577s\n",
            "SoftImpute with lambda=10 + LR:\n",
            " - R2 score on training set: 0.7604\n",
            " - R2 score on test set: 0.7524\n",
            " - Took 2.3163s\n",
            "SoftImpute with lambda=100 + LR:\n",
            " - R2 score on training set: 0.7229\n",
            " - R2 score on test set: 0.5991\n",
            " - Took 0.7562s\n"
          ]
        }
      ]
    },
    {
      "cell_type": "markdown",
      "source": [
        "# MissForest"
      ],
      "metadata": {
        "id": "PGX0q_fBOM5Y"
      }
    },
    {
      "cell_type": "code",
      "source": [
        "from sklearn.ensemble import RandomForestRegressor\n",
        "\n",
        "n_estimators_values = [5, 10, 25, 50]  # Different numbers of trees in the Random Forest\n",
        "for n_estimators in n_estimators_values:\n",
        "    print(f'MissForest with {n_estimators} estimators + LR:')\n",
        "    simulate(\n",
        "        IterativeImputer(\n",
        "            estimator=RandomForestRegressor(n_estimators=n_estimators, random_state=seed)\n",
        "        ),\n",
        "        LinearRegression()\n",
        "    )"
      ],
      "metadata": {
        "id": "p3tWrEzZFayB",
        "colab": {
          "base_uri": "https://localhost:8080/"
        },
        "outputId": "959d3d30-e1b9-4c51-e031-1262b4185c9d"
      },
      "execution_count": 10,
      "outputs": [
        {
          "output_type": "stream",
          "name": "stdout",
          "text": [
            "MissForest with 5 estimators + LR:\n",
            " - R2 score on training set: 0.7474\n",
            " - R2 score on test set: 0.7130\n",
            " - Took 37.2037s\n",
            "MissForest with 10 estimators + LR:\n",
            " - R2 score on training set: 0.7586\n",
            " - R2 score on test set: 0.7204\n",
            " - Took 58.1140s\n",
            "MissForest with 25 estimators + LR:\n",
            " - R2 score on training set: 0.7660\n",
            " - R2 score on test set: 0.7246\n",
            " - Took 148.2751s\n",
            "MissForest with 50 estimators + LR:\n",
            " - R2 score on training set: 0.7708\n",
            " - R2 score on test set: 0.7442\n",
            " - Took 292.8146s\n"
          ]
        }
      ]
    },
    {
      "cell_type": "markdown",
      "source": [
        "# MICE"
      ],
      "metadata": {
        "id": "1Hgm83hVJ1Ww"
      }
    },
    {
      "cell_type": "code",
      "source": [
        "simulate(\n",
        "    IterativeImputer(random_state=0),\n",
        "    LinearRegression()\n",
        ")"
      ],
      "metadata": {
        "colab": {
          "base_uri": "https://localhost:8080/"
        },
        "id": "L5yvu-GgJ3Pw",
        "outputId": "69ccbba3-7967-45c7-f5f8-980ef3f0e3cc"
      },
      "execution_count": 11,
      "outputs": [
        {
          "output_type": "stream",
          "name": "stdout",
          "text": [
            " - R2 score on training set: 0.7496\n",
            " - R2 score on test set: 0.7313\n",
            " - Took 4.5647s\n"
          ]
        }
      ]
    },
    {
      "cell_type": "markdown",
      "source": [
        "# MLP"
      ],
      "metadata": {
        "id": "3xWevKp2BMkE"
      }
    },
    {
      "cell_type": "code",
      "source": [
        "from sklearn.neural_network import MLPRegressor\n",
        "\n",
        "start = perf_counter()\n",
        "imputer = SimpleImputer(strategy='mean')\n",
        "X_train_imputed = imputer.fit_transform(X_train)\n",
        "X_test_imputed = imputer.transform(X_test)\n",
        "\n",
        "mlp = MLPRegressor(hidden_layer_sizes=(64, 32), max_iter=500, random_state=seed)\n",
        "mlp.fit(X_train_imputed, y_train)\n",
        "\n",
        "y_train_pred = mlp.predict(X_train_imputed)\n",
        "r2_train = r2_score(y_train, y_train_pred)\n",
        "\n",
        "y_test_pred = mlp.predict(X_test_imputed)\n",
        "r2_test = r2_score(y_test, y_test_pred)\n",
        "\n",
        "print(f' - R2 score on training set: {r2_train:.4f}')\n",
        "print(f' - R2 score on test set: {r2_test:.4f}')\n",
        "print(f' - Took {(perf_counter() - start):.4f}s')"
      ],
      "metadata": {
        "colab": {
          "base_uri": "https://localhost:8080/"
        },
        "id": "cUv7DwAXDIBQ",
        "outputId": "5a5a95e6-a5bb-445d-ab9d-f60dc97f71b3"
      },
      "execution_count": 12,
      "outputs": [
        {
          "output_type": "stream",
          "name": "stdout",
          "text": [
            " - R2 score on training set: 0.8022\n",
            " - R2 score on test set: 0.7330\n",
            " - Took 14.1862s\n"
          ]
        }
      ]
    },
    {
      "cell_type": "markdown",
      "source": [
        "# Different samples size, missing rates"
      ],
      "metadata": {
        "id": "j7cPnQdhIe0C"
      }
    },
    {
      "cell_type": "code",
      "source": [
        "ns = [1000, 10000, 50000]\n",
        "ms = [0.1, 0.3, 0.5, 0.8]\n",
        "for n in ns:\n",
        "    print(f'Number of samples: {n = }')\n",
        "    for m in ms:\n",
        "        print(f'Missing rate: {m}')\n",
        "        X_train, X_test, y_train, y_test = generate_dataset(n=n, d=10, missing_rate=0.5)\n",
        "        print(' - KNN + LR: ')\n",
        "        simulate(\n",
        "            KNNImputer(n_neighbors=1000),\n",
        "            LinearRegression()\n",
        "        )\n",
        "\n",
        "        print(' - Simple impute + LR: ')\n",
        "        simulate(\n",
        "            SimpleImputer(strategy=strategy),\n",
        "            LinearRegression()\n",
        "        )"
      ],
      "metadata": {
        "colab": {
          "base_uri": "https://localhost:8080/"
        },
        "id": "ha-RC3QlIjeJ",
        "outputId": "ef8e5144-b184-4cbf-f0aa-8c70f4e51b13"
      },
      "execution_count": 13,
      "outputs": [
        {
          "output_type": "stream",
          "name": "stdout",
          "text": [
            "Number of samples: n = 1000\n",
            "Missing rate: 0.1\n",
            " - KNN + LR: \n",
            " - R2 score on training set: 0.6448\n",
            " - R2 score on test set: 0.5743\n",
            " - Took 0.2508s\n",
            " - Simple impute + LR: \n",
            " - R2 score on training set: 0.6410\n",
            " - R2 score on test set: 0.6842\n",
            " - Took 0.0065s\n",
            "Missing rate: 0.3\n",
            " - KNN + LR: \n",
            " - R2 score on training set: 0.6448\n",
            " - R2 score on test set: 0.5743\n",
            " - Took 0.2557s\n",
            " - Simple impute + LR: \n",
            " - R2 score on training set: 0.6410\n",
            " - R2 score on test set: 0.6842\n",
            " - Took 0.0065s\n",
            "Missing rate: 0.5\n",
            " - KNN + LR: \n",
            " - R2 score on training set: 0.6448\n",
            " - R2 score on test set: 0.5743\n",
            " - Took 0.2422s\n",
            " - Simple impute + LR: \n",
            " - R2 score on training set: 0.6410\n",
            " - R2 score on test set: 0.6842\n",
            " - Took 0.0057s\n",
            "Missing rate: 0.8\n",
            " - KNN + LR: \n",
            " - R2 score on training set: 0.6448\n",
            " - R2 score on test set: 0.5743\n",
            " - Took 0.2408s\n",
            " - Simple impute + LR: \n",
            " - R2 score on training set: 0.6410\n",
            " - R2 score on test set: 0.6842\n",
            " - Took 0.0076s\n",
            "Number of samples: n = 10000\n",
            "Missing rate: 0.1\n",
            " - KNN + LR: \n",
            " - R2 score on training set: 0.7091\n",
            " - R2 score on test set: 0.6372\n",
            " - Took 23.6688s\n",
            " - Simple impute + LR: \n",
            " - R2 score on training set: 0.6489\n",
            " - R2 score on test set: 0.6345\n",
            " - Took 0.0894s\n",
            "Missing rate: 0.3\n",
            " - KNN + LR: \n",
            " - R2 score on training set: 0.7091\n",
            " - R2 score on test set: 0.6372\n",
            " - Took 22.5262s\n",
            " - Simple impute + LR: \n",
            " - R2 score on training set: 0.6489\n",
            " - R2 score on test set: 0.6345\n",
            " - Took 0.0256s\n",
            "Missing rate: 0.5\n",
            " - KNN + LR: \n",
            " - R2 score on training set: 0.7091\n",
            " - R2 score on test set: 0.6372\n",
            " - Took 21.8441s\n",
            " - Simple impute + LR: \n",
            " - R2 score on training set: 0.6489\n",
            " - R2 score on test set: 0.6345\n",
            " - Took 0.0308s\n",
            "Missing rate: 0.8\n",
            " - KNN + LR: \n",
            " - R2 score on training set: 0.7091\n",
            " - R2 score on test set: 0.6372\n",
            " - Took 20.8051s\n",
            " - Simple impute + LR: \n",
            " - R2 score on training set: 0.6489\n",
            " - R2 score on test set: 0.6345\n",
            " - Took 0.0312s\n",
            "Number of samples: n = 50000\n",
            "Missing rate: 0.1\n",
            " - KNN + LR: \n",
            " - R2 score on training set: 0.7075\n",
            " - R2 score on test set: 0.7236\n",
            " - Took 401.4973s\n",
            " - Simple impute + LR: \n",
            " - R2 score on training set: 0.6560\n",
            " - R2 score on test set: 0.6768\n",
            " - Took 0.0745s\n",
            "Missing rate: 0.3\n",
            " - KNN + LR: \n",
            " - R2 score on training set: 0.7075\n",
            " - R2 score on test set: 0.7236\n",
            " - Took 337.4596s\n",
            " - Simple impute + LR: \n",
            " - R2 score on training set: 0.6560\n",
            " - R2 score on test set: 0.6768\n",
            " - Took 0.0506s\n",
            "Missing rate: 0.5\n",
            " - KNN + LR: \n",
            " - R2 score on training set: 0.7075\n",
            " - R2 score on test set: 0.7236\n",
            " - Took 326.9633s\n",
            " - Simple impute + LR: \n",
            " - R2 score on training set: 0.6560\n",
            " - R2 score on test set: 0.6768\n",
            " - Took 0.0534s\n",
            "Missing rate: 0.8\n",
            " - KNN + LR: \n",
            " - R2 score on training set: 0.7075\n",
            " - R2 score on test set: 0.7236\n",
            " - Took 320.2829s\n",
            " - Simple impute + LR: \n",
            " - R2 score on training set: 0.6560\n",
            " - R2 score on test set: 0.6768\n",
            " - Took 0.1130s\n"
          ]
        }
      ]
    }
  ]
}