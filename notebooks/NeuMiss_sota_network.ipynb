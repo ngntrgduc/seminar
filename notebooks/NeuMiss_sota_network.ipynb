{
  "nbformat": 4,
  "nbformat_minor": 0,
  "metadata": {
    "colab": {
      "provenance": []
    },
    "kernelspec": {
      "name": "python3",
      "display_name": "Python 3"
    },
    "language_info": {
      "name": "python"
    }
  },
  "cells": [
    {
      "cell_type": "code",
      "source": [
        "import numpy as np\n",
        "import pandas as pd\n",
        "import matplotlib.pyplot as plt\n",
        "import seaborn as sns\n",
        "import torch"
      ],
      "metadata": {
        "id": "KlXYXLY83FyK"
      },
      "execution_count": 1,
      "outputs": []
    },
    {
      "cell_type": "markdown",
      "source": [
        "### Install NeuMiss"
      ],
      "metadata": {
        "id": "mbCHwzMU7XDt"
      }
    },
    {
      "cell_type": "code",
      "execution_count": 2,
      "metadata": {
        "id": "silMg0rK2rIe",
        "colab": {
          "base_uri": "https://localhost:8080/"
        },
        "outputId": "ce13ae0b-4a36-48e6-f741-146cbb574f40"
      },
      "outputs": [
        {
          "output_type": "stream",
          "name": "stdout",
          "text": [
            "Cloning into 'NeuMiss_sota'...\n",
            "remote: Enumerating objects: 20, done.\u001b[K\n",
            "remote: Counting objects: 100% (20/20), done.\u001b[K\n",
            "remote: Compressing objects: 100% (18/18), done.\u001b[K\n",
            "remote: Total 20 (delta 0), reused 13 (delta 0), pack-reused 0 (from 0)\u001b[K\n",
            "Receiving objects: 100% (20/20), 62.08 KiB | 512.00 KiB/s, done.\n"
          ]
        }
      ],
      "source": [
        "!git clone --depth=1 https://github.com/marineLM/NeuMiss_sota.git"
      ]
    },
    {
      "cell_type": "code",
      "source": [
        "%cd NeuMiss_sota"
      ],
      "metadata": {
        "colab": {
          "base_uri": "https://localhost:8080/"
        },
        "id": "AGFgIRiR7mpE",
        "outputId": "d7aecd94-e4c3-4f03-9ba6-c6437a6446d0"
      },
      "execution_count": 3,
      "outputs": [
        {
          "output_type": "stream",
          "name": "stdout",
          "text": [
            "/content/NeuMiss_sota\n"
          ]
        }
      ]
    },
    {
      "cell_type": "code",
      "source": [
        "!pip install . -q"
      ],
      "metadata": {
        "colab": {
          "base_uri": "https://localhost:8080/"
        },
        "id": "aU-PcMJb8k2a",
        "outputId": "7e070a44-dfba-421b-ee52-ddcfe13ae9ab"
      },
      "execution_count": 4,
      "outputs": [
        {
          "output_type": "stream",
          "name": "stdout",
          "text": [
            "  Installing build dependencies ... \u001b[?25l\u001b[?25hdone\n",
            "  Getting requirements to build wheel ... \u001b[?25l\u001b[?25hdone\n",
            "  Preparing metadata (pyproject.toml) ... \u001b[?25l\u001b[?25hdone\n",
            "  Building wheel for neumiss (pyproject.toml) ... \u001b[?25l\u001b[?25hdone\n"
          ]
        }
      ]
    },
    {
      "cell_type": "markdown",
      "source": [
        "## Sample use of NeuMiss"
      ],
      "metadata": {
        "id": "yWpkX4yd6ll_"
      }
    },
    {
      "cell_type": "markdown",
      "source": [
        "train NeuMissMLP on a simple synthetic dataset"
      ],
      "metadata": {
        "id": "CgrthpWe_vN1"
      }
    },
    {
      "cell_type": "code",
      "source": [
        "%cd src"
      ],
      "metadata": {
        "colab": {
          "base_uri": "https://localhost:8080/"
        },
        "id": "UI0IrDlz8JZZ",
        "outputId": "c465f03e-3e13-4d60-d492-202e9dc8394d"
      },
      "execution_count": 5,
      "outputs": [
        {
          "output_type": "stream",
          "name": "stdout",
          "text": [
            "/content/NeuMiss_sota/src\n"
          ]
        }
      ]
    },
    {
      "cell_type": "code",
      "source": [
        "import torch.nn as nn\n",
        "from torch.utils.data import DataLoader\n",
        "from torch.optim.lr_scheduler import ReduceLROnPlateau\n",
        "from neumiss import NeuMissMLP\n",
        "from generate_example_dataset import get_example_dataset\n",
        "from utils import (\n",
        "    get_optimizer_by_group,\n",
        "    train_model,\n",
        "    compute_preds,\n",
        "    compute_regression_metrics\n",
        ")"
      ],
      "metadata": {
        "id": "n39wWynf6oJA"
      },
      "execution_count": 6,
      "outputs": []
    },
    {
      "cell_type": "markdown",
      "source": [
        "Generate a synthetic dataset. Here, we generate Gaussian data (10,000 samples, 10 features) with 50% MCAR missing values. The response is generated linearly from the complete data. Note that **with NeuMiss, it is not necessary to impute the data**. The **NeuMissBlock expects and handles NaN in the inputs**."
      ],
      "metadata": {
        "id": "2DVHPDNd9LLU"
      }
    },
    {
      "cell_type": "code",
      "source": [
        "torch.manual_seed(0)"
      ],
      "metadata": {
        "colab": {
          "base_uri": "https://localhost:8080/"
        },
        "id": "J8WWhRRlQhvW",
        "outputId": "49a63dad-c99f-4d78-aa9a-4df95bdac557"
      },
      "execution_count": 7,
      "outputs": [
        {
          "output_type": "execute_result",
          "data": {
            "text/plain": [
              "<torch._C.Generator at 0x7fd1ae9719d0>"
            ]
          },
          "metadata": {},
          "execution_count": 7
        }
      ]
    },
    {
      "cell_type": "code",
      "source": [
        "ds_train, ds_val, ds_test = get_example_dataset()\n",
        "p = ds_train.tensors[0].shape[1]  # n_features\n",
        "#\n",
        "train_loader = DataLoader(ds_train, batch_size=64, shuffle=True)\n",
        "val_loader = DataLoader(ds_val, batch_size=64)\n",
        "test_loader = DataLoader(ds_test, batch_size=64)"
      ],
      "metadata": {
        "id": "Z3Gj7NZR8YoI"
      },
      "execution_count": 8,
      "outputs": []
    },
    {
      "cell_type": "code",
      "source": [
        "ds_train[:5]"
      ],
      "metadata": {
        "colab": {
          "base_uri": "https://localhost:8080/"
        },
        "id": "Y7Tx84oiAq4I",
        "outputId": "d419d510-1bcf-40f2-ff19-b5f7710f6db3"
      },
      "execution_count": 9,
      "outputs": [
        {
          "output_type": "execute_result",
          "data": {
            "text/plain": [
              "(tensor([[-3.7154,     nan, -1.6264,     nan,     nan,  1.4869,     nan, -2.5403,\n",
              "           2.2790,     nan],\n",
              "         [    nan,  0.8611, -0.8832, -1.5880,  2.0258,  0.2589,     nan, -1.3742,\n",
              "          -0.8846,  0.6854],\n",
              "         [-0.2808, -2.5026, -0.9402,     nan, -9.7543,     nan,     nan, -0.6970,\n",
              "              nan,     nan],\n",
              "         [-2.1774,  1.0111,     nan,     nan, -3.3075,     nan,  0.2433,     nan,\n",
              "              nan, -4.1947],\n",
              "         [    nan,     nan,     nan,     nan,     nan,     nan,     nan,     nan,\n",
              "           5.1190, -2.6865]]),\n",
              " tensor([ 0.7345,  0.8464, -2.0679,  0.0636, -0.1527]))"
            ]
          },
          "metadata": {},
          "execution_count": 9
        }
      ]
    },
    {
      "cell_type": "markdown",
      "source": [
        "Instantiate a NeuMissMLP network.\n"
      ],
      "metadata": {
        "id": "_jbO3_EQ9QFS"
      }
    },
    {
      "cell_type": "code",
      "source": [
        "model = NeuMissMLP(\n",
        "    n_features=p,\n",
        "    neumiss_depth=10,\n",
        "    mlp_depth=0,\n",
        "    mlp_width=p\n",
        ")"
      ],
      "metadata": {
        "id": "2dIi1eFE9PIt"
      },
      "execution_count": 10,
      "outputs": []
    },
    {
      "cell_type": "markdown",
      "source": [
        "Instantiate an optimizer, a scheduler and a loss."
      ],
      "metadata": {
        "id": "D71M5pmo9VgZ"
      }
    },
    {
      "cell_type": "code",
      "source": [
        "optim_hyperparams = {'weight_decay': 0, 'lr': 1e-3}\n",
        "optimizer = get_optimizer_by_group(model, optim_hyperparams)\n",
        "\n",
        "sched_hyperparams = {'factor': 0.2, 'patience': 10, 'threshold': 1e-4}\n",
        "scheduler = ReduceLROnPlateau(optimizer, mode='min', **sched_hyperparams)\n",
        "\n",
        "criterion = nn.MSELoss()"
      ],
      "metadata": {
        "id": "pIA7qdjS9Udt"
      },
      "execution_count": 11,
      "outputs": []
    },
    {
      "cell_type": "markdown",
      "source": [
        "Train the model.\n"
      ],
      "metadata": {
        "id": "H0asfVc_9Ynd"
      }
    },
    {
      "cell_type": "code",
      "source": [
        "train_model(model, criterion, train_loader, val_loader, optimizer,\n",
        "            scheduler, early_stopping=True, n_epochs=200, lr_threshold=1e-6)"
      ],
      "metadata": {
        "id": "rohDaEW19Xqa",
        "colab": {
          "base_uri": "https://localhost:8080/"
        },
        "outputId": "58444ed5-c507-49c2-9b5b-8a087aad0c0b"
      },
      "execution_count": 12,
      "outputs": [
        {
          "output_type": "stream",
          "name": "stdout",
          "text": [
            "EarlyStopping counter: 1 out of                       12\n",
            "EarlyStopping counter: 1 out of                       12\n",
            "EarlyStopping counter: 1 out of                       12\n",
            "EarlyStopping counter: 1 out of                       12\n",
            "EarlyStopping counter: 1 out of                       12\n",
            "EarlyStopping counter: 2 out of                       12\n",
            "EarlyStopping counter: 1 out of                       12\n",
            "EarlyStopping counter: 1 out of                       12\n",
            "EarlyStopping counter: 1 out of                       12\n",
            "EarlyStopping counter: 1 out of                       12\n",
            "EarlyStopping counter: 1 out of                       12\n",
            "EarlyStopping counter: 2 out of                       12\n",
            "EarlyStopping counter: 1 out of                       12\n",
            "EarlyStopping counter: 2 out of                       12\n",
            "EarlyStopping counter: 1 out of                       12\n",
            "EarlyStopping counter: 2 out of                       12\n",
            "EarlyStopping counter: 1 out of                       12\n",
            "EarlyStopping counter: 1 out of                       12\n",
            "EarlyStopping counter: 1 out of                       12\n",
            "EarlyStopping counter: 2 out of                       12\n",
            "EarlyStopping counter: 1 out of                       12\n",
            "EarlyStopping counter: 2 out of                       12\n",
            "EarlyStopping counter: 3 out of                       12\n",
            "EarlyStopping counter: 4 out of                       12\n",
            "EarlyStopping counter: 5 out of                       12\n",
            "EarlyStopping counter: 6 out of                       12\n",
            "EarlyStopping counter: 7 out of                       12\n",
            "EarlyStopping counter: 8 out of                       12\n",
            "EarlyStopping counter: 1 out of                       12\n",
            "EarlyStopping counter: 2 out of                       12\n",
            "EarlyStopping counter: 3 out of                       12\n",
            "EarlyStopping counter: 4 out of                       12\n",
            "EarlyStopping counter: 5 out of                       12\n",
            "EarlyStopping counter: 6 out of                       12\n",
            "EarlyStopping counter: 7 out of                       12\n",
            "EarlyStopping counter: 8 out of                       12\n",
            "EarlyStopping counter: 9 out of                       12\n",
            "EarlyStopping counter: 10 out of                       12\n",
            "EarlyStopping counter: 1 out of                       12\n",
            "EarlyStopping counter: 2 out of                       12\n",
            "EarlyStopping counter: 3 out of                       12\n",
            "EarlyStopping counter: 4 out of                       12\n",
            "EarlyStopping counter: 5 out of                       12\n",
            "EarlyStopping counter: 6 out of                       12\n",
            "EarlyStopping counter: 7 out of                       12\n",
            "EarlyStopping counter: 8 out of                       12\n",
            "EarlyStopping counter: 9 out of                       12\n",
            "EarlyStopping counter: 10 out of                       12\n",
            "EarlyStopping counter: 11 out of                       12\n",
            "EarlyStopping counter: 12 out of                       12\n",
            "Early stopping\n"
          ]
        }
      ]
    },
    {
      "cell_type": "markdown",
      "source": [
        "Compute prediction scores."
      ],
      "metadata": {
        "id": "giaeyJmt9d4D"
      }
    },
    {
      "cell_type": "code",
      "source": [
        "train_loader = DataLoader(ds_train, batch_size=256, shuffle=False)\n",
        "pred = compute_preds(model, train_loader, val_loader, test_loader,\n",
        "                     classif=False)\n",
        "\n",
        "res = {}\n",
        "splits = ['train', 'val', 'test']\n",
        "preds = [pred[split] for split in splits]\n",
        "y_labels = [ds_train.tensors[1], ds_val.tensors[1], ds_test.tensors[1]]\n",
        "\n",
        "for split, pred, y_label in zip(splits, preds, y_labels):\n",
        "    res_split = compute_regression_metrics(pred, y_label)\n",
        "    for metric, value in res_split.items():\n",
        "        res[f'{metric}_{split}'] = value"
      ],
      "metadata": {
        "id": "EJ9W53oM9cwn"
      },
      "execution_count": 13,
      "outputs": []
    },
    {
      "cell_type": "code",
      "source": [
        "pd.DataFrame.from_dict(res, orient='index', columns=['score'])"
      ],
      "metadata": {
        "colab": {
          "base_uri": "https://localhost:8080/",
          "height": 238
        },
        "id": "g5K-N0jjLW9e",
        "outputId": "42fbf33e-4de6-466f-b399-da042b716477"
      },
      "execution_count": 14,
      "outputs": [
        {
          "output_type": "execute_result",
          "data": {
            "text/plain": [
              "              score\n",
              "r2_train   0.815609\n",
              "mse_train  0.198918\n",
              "r2_val     0.796459\n",
              "mse_val    0.226980\n",
              "r2_test    0.799700\n",
              "mse_test   0.221080"
            ],
            "text/html": [
              "\n",
              "  <div id=\"df-446a68cd-2b6b-4fa2-9507-46bd33cada00\" class=\"colab-df-container\">\n",
              "    <div>\n",
              "<style scoped>\n",
              "    .dataframe tbody tr th:only-of-type {\n",
              "        vertical-align: middle;\n",
              "    }\n",
              "\n",
              "    .dataframe tbody tr th {\n",
              "        vertical-align: top;\n",
              "    }\n",
              "\n",
              "    .dataframe thead th {\n",
              "        text-align: right;\n",
              "    }\n",
              "</style>\n",
              "<table border=\"1\" class=\"dataframe\">\n",
              "  <thead>\n",
              "    <tr style=\"text-align: right;\">\n",
              "      <th></th>\n",
              "      <th>score</th>\n",
              "    </tr>\n",
              "  </thead>\n",
              "  <tbody>\n",
              "    <tr>\n",
              "      <th>r2_train</th>\n",
              "      <td>0.815609</td>\n",
              "    </tr>\n",
              "    <tr>\n",
              "      <th>mse_train</th>\n",
              "      <td>0.198918</td>\n",
              "    </tr>\n",
              "    <tr>\n",
              "      <th>r2_val</th>\n",
              "      <td>0.796459</td>\n",
              "    </tr>\n",
              "    <tr>\n",
              "      <th>mse_val</th>\n",
              "      <td>0.226980</td>\n",
              "    </tr>\n",
              "    <tr>\n",
              "      <th>r2_test</th>\n",
              "      <td>0.799700</td>\n",
              "    </tr>\n",
              "    <tr>\n",
              "      <th>mse_test</th>\n",
              "      <td>0.221080</td>\n",
              "    </tr>\n",
              "  </tbody>\n",
              "</table>\n",
              "</div>\n",
              "    <div class=\"colab-df-buttons\">\n",
              "\n",
              "  <div class=\"colab-df-container\">\n",
              "    <button class=\"colab-df-convert\" onclick=\"convertToInteractive('df-446a68cd-2b6b-4fa2-9507-46bd33cada00')\"\n",
              "            title=\"Convert this dataframe to an interactive table.\"\n",
              "            style=\"display:none;\">\n",
              "\n",
              "  <svg xmlns=\"http://www.w3.org/2000/svg\" height=\"24px\" viewBox=\"0 -960 960 960\">\n",
              "    <path d=\"M120-120v-720h720v720H120Zm60-500h600v-160H180v160Zm220 220h160v-160H400v160Zm0 220h160v-160H400v160ZM180-400h160v-160H180v160Zm440 0h160v-160H620v160ZM180-180h160v-160H180v160Zm440 0h160v-160H620v160Z\"/>\n",
              "  </svg>\n",
              "    </button>\n",
              "\n",
              "  <style>\n",
              "    .colab-df-container {\n",
              "      display:flex;\n",
              "      gap: 12px;\n",
              "    }\n",
              "\n",
              "    .colab-df-convert {\n",
              "      background-color: #E8F0FE;\n",
              "      border: none;\n",
              "      border-radius: 50%;\n",
              "      cursor: pointer;\n",
              "      display: none;\n",
              "      fill: #1967D2;\n",
              "      height: 32px;\n",
              "      padding: 0 0 0 0;\n",
              "      width: 32px;\n",
              "    }\n",
              "\n",
              "    .colab-df-convert:hover {\n",
              "      background-color: #E2EBFA;\n",
              "      box-shadow: 0px 1px 2px rgba(60, 64, 67, 0.3), 0px 1px 3px 1px rgba(60, 64, 67, 0.15);\n",
              "      fill: #174EA6;\n",
              "    }\n",
              "\n",
              "    .colab-df-buttons div {\n",
              "      margin-bottom: 4px;\n",
              "    }\n",
              "\n",
              "    [theme=dark] .colab-df-convert {\n",
              "      background-color: #3B4455;\n",
              "      fill: #D2E3FC;\n",
              "    }\n",
              "\n",
              "    [theme=dark] .colab-df-convert:hover {\n",
              "      background-color: #434B5C;\n",
              "      box-shadow: 0px 1px 3px 1px rgba(0, 0, 0, 0.15);\n",
              "      filter: drop-shadow(0px 1px 2px rgba(0, 0, 0, 0.3));\n",
              "      fill: #FFFFFF;\n",
              "    }\n",
              "  </style>\n",
              "\n",
              "    <script>\n",
              "      const buttonEl =\n",
              "        document.querySelector('#df-446a68cd-2b6b-4fa2-9507-46bd33cada00 button.colab-df-convert');\n",
              "      buttonEl.style.display =\n",
              "        google.colab.kernel.accessAllowed ? 'block' : 'none';\n",
              "\n",
              "      async function convertToInteractive(key) {\n",
              "        const element = document.querySelector('#df-446a68cd-2b6b-4fa2-9507-46bd33cada00');\n",
              "        const dataTable =\n",
              "          await google.colab.kernel.invokeFunction('convertToInteractive',\n",
              "                                                    [key], {});\n",
              "        if (!dataTable) return;\n",
              "\n",
              "        const docLinkHtml = 'Like what you see? Visit the ' +\n",
              "          '<a target=\"_blank\" href=https://colab.research.google.com/notebooks/data_table.ipynb>data table notebook</a>'\n",
              "          + ' to learn more about interactive tables.';\n",
              "        element.innerHTML = '';\n",
              "        dataTable['output_type'] = 'display_data';\n",
              "        await google.colab.output.renderOutput(dataTable, element);\n",
              "        const docLink = document.createElement('div');\n",
              "        docLink.innerHTML = docLinkHtml;\n",
              "        element.appendChild(docLink);\n",
              "      }\n",
              "    </script>\n",
              "  </div>\n",
              "\n",
              "\n",
              "<div id=\"df-3c5d282a-0a25-4b87-a151-76285d10936a\">\n",
              "  <button class=\"colab-df-quickchart\" onclick=\"quickchart('df-3c5d282a-0a25-4b87-a151-76285d10936a')\"\n",
              "            title=\"Suggest charts\"\n",
              "            style=\"display:none;\">\n",
              "\n",
              "<svg xmlns=\"http://www.w3.org/2000/svg\" height=\"24px\"viewBox=\"0 0 24 24\"\n",
              "     width=\"24px\">\n",
              "    <g>\n",
              "        <path d=\"M19 3H5c-1.1 0-2 .9-2 2v14c0 1.1.9 2 2 2h14c1.1 0 2-.9 2-2V5c0-1.1-.9-2-2-2zM9 17H7v-7h2v7zm4 0h-2V7h2v10zm4 0h-2v-4h2v4z\"/>\n",
              "    </g>\n",
              "</svg>\n",
              "  </button>\n",
              "\n",
              "<style>\n",
              "  .colab-df-quickchart {\n",
              "      --bg-color: #E8F0FE;\n",
              "      --fill-color: #1967D2;\n",
              "      --hover-bg-color: #E2EBFA;\n",
              "      --hover-fill-color: #174EA6;\n",
              "      --disabled-fill-color: #AAA;\n",
              "      --disabled-bg-color: #DDD;\n",
              "  }\n",
              "\n",
              "  [theme=dark] .colab-df-quickchart {\n",
              "      --bg-color: #3B4455;\n",
              "      --fill-color: #D2E3FC;\n",
              "      --hover-bg-color: #434B5C;\n",
              "      --hover-fill-color: #FFFFFF;\n",
              "      --disabled-bg-color: #3B4455;\n",
              "      --disabled-fill-color: #666;\n",
              "  }\n",
              "\n",
              "  .colab-df-quickchart {\n",
              "    background-color: var(--bg-color);\n",
              "    border: none;\n",
              "    border-radius: 50%;\n",
              "    cursor: pointer;\n",
              "    display: none;\n",
              "    fill: var(--fill-color);\n",
              "    height: 32px;\n",
              "    padding: 0;\n",
              "    width: 32px;\n",
              "  }\n",
              "\n",
              "  .colab-df-quickchart:hover {\n",
              "    background-color: var(--hover-bg-color);\n",
              "    box-shadow: 0 1px 2px rgba(60, 64, 67, 0.3), 0 1px 3px 1px rgba(60, 64, 67, 0.15);\n",
              "    fill: var(--button-hover-fill-color);\n",
              "  }\n",
              "\n",
              "  .colab-df-quickchart-complete:disabled,\n",
              "  .colab-df-quickchart-complete:disabled:hover {\n",
              "    background-color: var(--disabled-bg-color);\n",
              "    fill: var(--disabled-fill-color);\n",
              "    box-shadow: none;\n",
              "  }\n",
              "\n",
              "  .colab-df-spinner {\n",
              "    border: 2px solid var(--fill-color);\n",
              "    border-color: transparent;\n",
              "    border-bottom-color: var(--fill-color);\n",
              "    animation:\n",
              "      spin 1s steps(1) infinite;\n",
              "  }\n",
              "\n",
              "  @keyframes spin {\n",
              "    0% {\n",
              "      border-color: transparent;\n",
              "      border-bottom-color: var(--fill-color);\n",
              "      border-left-color: var(--fill-color);\n",
              "    }\n",
              "    20% {\n",
              "      border-color: transparent;\n",
              "      border-left-color: var(--fill-color);\n",
              "      border-top-color: var(--fill-color);\n",
              "    }\n",
              "    30% {\n",
              "      border-color: transparent;\n",
              "      border-left-color: var(--fill-color);\n",
              "      border-top-color: var(--fill-color);\n",
              "      border-right-color: var(--fill-color);\n",
              "    }\n",
              "    40% {\n",
              "      border-color: transparent;\n",
              "      border-right-color: var(--fill-color);\n",
              "      border-top-color: var(--fill-color);\n",
              "    }\n",
              "    60% {\n",
              "      border-color: transparent;\n",
              "      border-right-color: var(--fill-color);\n",
              "    }\n",
              "    80% {\n",
              "      border-color: transparent;\n",
              "      border-right-color: var(--fill-color);\n",
              "      border-bottom-color: var(--fill-color);\n",
              "    }\n",
              "    90% {\n",
              "      border-color: transparent;\n",
              "      border-bottom-color: var(--fill-color);\n",
              "    }\n",
              "  }\n",
              "</style>\n",
              "\n",
              "  <script>\n",
              "    async function quickchart(key) {\n",
              "      const quickchartButtonEl =\n",
              "        document.querySelector('#' + key + ' button');\n",
              "      quickchartButtonEl.disabled = true;  // To prevent multiple clicks.\n",
              "      quickchartButtonEl.classList.add('colab-df-spinner');\n",
              "      try {\n",
              "        const charts = await google.colab.kernel.invokeFunction(\n",
              "            'suggestCharts', [key], {});\n",
              "      } catch (error) {\n",
              "        console.error('Error during call to suggestCharts:', error);\n",
              "      }\n",
              "      quickchartButtonEl.classList.remove('colab-df-spinner');\n",
              "      quickchartButtonEl.classList.add('colab-df-quickchart-complete');\n",
              "    }\n",
              "    (() => {\n",
              "      let quickchartButtonEl =\n",
              "        document.querySelector('#df-3c5d282a-0a25-4b87-a151-76285d10936a button');\n",
              "      quickchartButtonEl.style.display =\n",
              "        google.colab.kernel.accessAllowed ? 'block' : 'none';\n",
              "    })();\n",
              "  </script>\n",
              "</div>\n",
              "\n",
              "    </div>\n",
              "  </div>\n"
            ],
            "application/vnd.google.colaboratory.intrinsic+json": {
              "type": "dataframe",
              "summary": "{\n  \"name\": \"pd\",\n  \"rows\": 6,\n  \"fields\": [\n    {\n      \"column\": \"score\",\n      \"properties\": {\n        \"dtype\": \"number\",\n        \"std\": 0.3224062184493899,\n        \"min\": 0.19891822338104248,\n        \"max\": 0.8156090974807739,\n        \"num_unique_values\": 6,\n        \"samples\": [\n          0.8156090974807739,\n          0.19891822338104248,\n          0.22107984125614166\n        ],\n        \"semantic_type\": \"\",\n        \"description\": \"\"\n      }\n    }\n  ]\n}"
            }
          },
          "metadata": {},
          "execution_count": 14
        }
      ]
    }
  ]
}