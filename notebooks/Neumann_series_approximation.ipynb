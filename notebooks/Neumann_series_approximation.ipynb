{
  "nbformat": 4,
  "nbformat_minor": 0,
  "metadata": {
    "colab": {
      "provenance": [],
      "toc_visible": true
    },
    "kernelspec": {
      "name": "python3",
      "display_name": "Python 3"
    },
    "language_info": {
      "name": "python"
    }
  },
  "cells": [
    {
      "cell_type": "code",
      "execution_count": null,
      "metadata": {
        "id": "jbtyfNaj_H45"
      },
      "outputs": [],
      "source": [
        "import numpy as np\n",
        "import pandas as pd\n",
        "from sklearn.utils.validation import check_random_state\n",
        "import matplotlib.pyplot as plt\n",
        "import seaborn as sns\n",
        "\n",
        "# Set print format\n",
        "np.set_printoptions(\n",
        "    precision=4,\n",
        "    suppress=True\n",
        ")\n",
        "# rng = check_random_state(42)"
      ]
    },
    {
      "cell_type": "code",
      "source": [
        "def spectral_radius(matrix: np.ndarray) -> float:\n",
        "    \"\"\"Calculate spectral radius of a matrix\"\"\"\n",
        "    # The spectral radius is the maximum absolute value of the eigenvalues\n",
        "    return max(abs(np.linalg.eigvals(matrix)))\n",
        "\n",
        "def check(matrix: np.ndarray) -> bool:\n",
        "    \"\"\"Check if matrix is positive semi-definite, symmetric,\n",
        "    and has spectral radius < 1\n",
        "    \"\"\"\n",
        "    print('Checking matrix...')\n",
        "    is_valid = True\n",
        "\n",
        "    # Ensure the matrix is square\n",
        "    if matrix.shape[0] != matrix.shape[1]:\n",
        "        raise ValueError('Matrix must be square')\n",
        "\n",
        "    if not np.allclose(matrix, matrix.T):\n",
        "        print(' - Not symmetric')\n",
        "        is_valid = False\n",
        "\n",
        "    if not np.all(np.linalg.eigvals(matrix) >= 0):\n",
        "        print(' - Not positive semi-definite')\n",
        "        is_valid = False\n",
        "\n",
        "    if spectral_radius(matrix) >= 1:\n",
        "        print(' - Spectral radius >= 1')\n",
        "        is_valid = False\n",
        "\n",
        "    if is_valid:\n",
        "        print(' -> Matrix is positive semi-definite, symmetric, and has spectral radius < 1')\n",
        "    return is_valid"
      ],
      "metadata": {
        "id": "bOE1H5wBtg9-"
      },
      "execution_count": null,
      "outputs": []
    },
    {
      "cell_type": "markdown",
      "source": [
        "### Approximate matrix inverse using Neumann series"
      ],
      "metadata": {
        "id": "fjTJUJyYF__c"
      }
    },
    {
      "cell_type": "markdown",
      "source": [
        "\n",
        "$$A^{-1} \\approx \\sum_{k=0}^{l}(I-A)^{k}.$$\n",
        "\n",
        "Converge when $\\|I-A\\|_2 < 1$, or $\\|A\\|_2 < 1$."
      ],
      "metadata": {
        "id": "XGagUpnguVCP"
      }
    },
    {
      "cell_type": "code",
      "source": [
        "def neumann_approx(matrix: np.ndarray, l: int = 3) -> np.ndarray:\n",
        "    \"\"\"Calculate approximation of the inverse of matrix, using Neumann series\"\"\"\n",
        "    matrix_approx = np.zeros_like(matrix)\n",
        "    I = np.eye(matrix.shape[0])\n",
        "    for k in range(l):\n",
        "        matrix_approx += np.linalg.matrix_power(I - matrix, k)\n",
        "\n",
        "    return matrix_approx"
      ],
      "metadata": {
        "id": "nsi7X6wI9_OZ"
      },
      "execution_count": null,
      "outputs": []
    },
    {
      "cell_type": "code",
      "source": [
        "def simulate(matrix: np.ndarray, l: int, verbose: int = 2) -> None:\n",
        "    \"\"\"Simulate Neumann approximation of the inverse of matrix with order l\"\"\"\n",
        "    matrix_approx = neumann_approx(matrix, l)\n",
        "    if verbose >= 0:\n",
        "        print(f'* Approximate inverse of matrix with order-{l}:\\n', matrix_approx)\n",
        "    if verbose >= 1:\n",
        "        print(f' - matrix x matrix_approx:\\n{np.dot(matrix, matrix_approx)}')"
      ],
      "metadata": {
        "id": "ujgQ2-cZDRuQ"
      },
      "execution_count": null,
      "outputs": []
    },
    {
      "cell_type": "code",
      "source": [
        "def matrix_info(matrix: np.ndarray) -> None:\n",
        "    \"\"\"Display infos of matrix\"\"\"\n",
        "    print(\"Generated matrix:\\n\", matrix)\n",
        "    check(matrix)\n",
        "    print('Inverse of matrix:\\n', np.linalg.inv(matrix))"
      ],
      "metadata": {
        "id": "uoQ0OrfNN6Em"
      },
      "execution_count": null,
      "outputs": []
    },
    {
      "cell_type": "markdown",
      "source": [
        "#### Spectral radius < 1"
      ],
      "metadata": {
        "id": "no81sdj0uai9"
      }
    },
    {
      "cell_type": "code",
      "source": [
        "# def generate_positive_definite_matrix(size):\n",
        "#     rng = check_random_state(0)\n",
        "#     A = rng.randn(size, size//2)\n",
        "#     A = A.dot(A.T)\n",
        "#     A += np.diag(rng.uniform(low=0.01, high=0.1, size=size))\n",
        "#     # A += np.eye(size)\n",
        "\n",
        "#     # Normalize to ensure the spectral radius is less than 1\n",
        "#     A = A / (max(np.linalg.eigvals(A)) + 1)\n",
        "#     return A\n",
        "\n",
        "# d = 4\n",
        "# matrix = generate_positive_definite_matrix(d)\n",
        "# matrix_info(matrix)\n",
        "# simulate(matrix, 5)\n",
        "# simulate(matrix, 15)"
      ],
      "metadata": {
        "id": "UEx0J522vioR"
      },
      "execution_count": null,
      "outputs": []
    },
    {
      "cell_type": "code",
      "source": [
        "def generate_pd_matrix(size: int, seed: int = 0):\n",
        "    \"\"\"\n",
        "    Generate a positive definite symmetric matrix A such that\n",
        "    the spectral radius of (I - A) is less than 1.\n",
        "    \"\"\"\n",
        "    # Set random seed for reproducible\n",
        "    rng = check_random_state(seed)\n",
        "\n",
        "    # Create a random symmetric positive definite matrix\n",
        "    # A = rng.rand(size, size)\n",
        "    # A = (A + A.T) / 2\n",
        "    A = rng.randn(size, size//2)\n",
        "    A = A.dot(A.T)\n",
        "    A += size * np.eye(size)  # Ensure positive definiteness\n",
        "\n",
        "    # Rescale A so that max eigenvalue of A is less than 1\n",
        "    A = A / (max(np.linalg.eigvals(A)) + 1)\n",
        "    return A\n",
        "\n",
        "d = 4\n",
        "matrix = generate_pd_matrix(d)\n",
        "matrix_info(matrix)\n",
        "check(matrix)\n",
        "simulate(matrix, 5)"
      ],
      "metadata": {
        "id": "V6G5gWSfjV2Q",
        "colab": {
          "base_uri": "https://localhost:8080/"
        },
        "outputId": "8e73f0e7-936b-42ed-e606-bb9f0c21de12"
      },
      "execution_count": null,
      "outputs": [
        {
          "output_type": "stream",
          "name": "stdout",
          "text": [
            "Generated matrix:\n",
            " [[ 0.5274  0.1902  0.2106  0.1172]\n",
            " [ 0.1902  0.7237 -0.0263  0.0428]\n",
            " [ 0.2106 -0.0263  0.6123  0.1394]\n",
            " [ 0.1172  0.0428  0.1394  0.3572]]\n",
            "Checking matrix...\n",
            " -> Matrix is positive semi-definite, symmetric, and has spectral radius < 1\n",
            "Inverse of matrix:\n",
            " [[ 2.5618 -0.6765 -0.809  -0.4433]\n",
            " [-0.6765  1.5767  0.3214 -0.0926]\n",
            " [-0.809   0.3214  2.0563 -0.5757]\n",
            " [-0.4433 -0.0926 -0.5757  3.1807]]\n",
            "Checking matrix...\n",
            " -> Matrix is positive semi-definite, symmetric, and has spectral radius < 1\n",
            "* Approximate inverse of matrix with order-5:\n",
            " [[ 2.1731 -0.5043 -0.5922 -0.3256]\n",
            " [-0.5043  1.491   0.1981 -0.0799]\n",
            " [-0.5922  0.1981  1.8334 -0.4146]\n",
            " [-0.3256 -0.0799 -0.4146  2.632 ]]\n",
            " - matrix x matrix_approx:\n",
            "[[ 0.8873  0.05    0.0628  0.0341]\n",
            " [ 0.05    0.9745 -0.0352  0.0038]\n",
            " [ 0.0628 -0.0352  0.9349  0.0466]\n",
            " [ 0.0341  0.0038  0.0466  0.8408]]\n"
          ]
        }
      ]
    },
    {
      "cell_type": "code",
      "source": [
        "order = 30\n",
        "good_approx_order = None\n",
        "errors = []\n",
        "tol = 1e-3\n",
        "I = np.eye(matrix.shape[0])\n",
        "for l in range(order+1):\n",
        "    matrix_approx = neumann_approx(matrix, l)\n",
        "    error = np.sum(np.abs(np.dot(matrix, matrix_approx) - I))\n",
        "    errors.append(error)\n",
        "    if good_approx_order is not None:\n",
        "        continue\n",
        "    if error <= tol:\n",
        "        good_approx_order = l\n",
        "        print(f'Approximation order-{l}, tolerate < {tol}:\\n', matrix_approx)\n",
        "        print('From now on, tolerate always < 1')\n",
        "\n",
        "plt.figure(figsize=(10, 5))\n",
        "plt.plot(errors, label='Approximation error')\n",
        "if good_approx_order is not None:\n",
        "    plt.axvline(good_approx_order, linestyle='--',\n",
        "                color='r', label=f'Tolerate < {tol}')\n",
        "    plt.legend()\n",
        "plt.xlabel('order-$\\ell$')\n",
        "plt.ylabel('$|A_{approx} A - Id|$')\n",
        "plt.title(f'Approximation error to order {order}')\n",
        "plt.grid()\n",
        "plt.show()"
      ],
      "metadata": {
        "colab": {
          "base_uri": "https://localhost:8080/",
          "height": 592
        },
        "id": "oh-v_z27jmPK",
        "outputId": "df53195f-2272-4d10-d1e1-9736a920d79a"
      },
      "execution_count": null,
      "outputs": [
        {
          "output_type": "stream",
          "name": "stdout",
          "text": [
            "Approximation order-25, tolerate < 0.001:\n",
            " [[ 2.5613 -0.6763 -0.8088 -0.4432]\n",
            " [-0.6763  1.5766  0.3212 -0.0926]\n",
            " [-0.8088  0.3212  2.0561 -0.5755]\n",
            " [-0.4432 -0.0926 -0.5755  3.1801]]\n",
            "From now on, tolerate always < 1\n"
          ]
        },
        {
          "output_type": "display_data",
          "data": {
            "text/plain": [
              "<Figure size 1000x500 with 1 Axes>"
            ],
            "image/png": "[encoded data removed]"
          },
          "metadata": {}
        }
      ]
    },
    {
      "cell_type": "markdown",
      "source": [
        "#### Spectral radius >= 1\n",
        "\n"
      ],
      "metadata": {
        "id": "M_i2HTIBtwe7"
      }
    },
    {
      "cell_type": "code",
      "source": [
        "rng = check_random_state(0)\n",
        "B = rng.randn(d, d//2)\n",
        "cov = B.dot(B.T) + np.diag(rng.uniform(low=0.01, high=0.1, size=d))\n",
        "while spectral_radius(cov) < 1:\n",
        "    B = rng.randn(d, d//2)\n",
        "    cov = B.dot(B.T) + np.diag(rng.uniform(low=0.01, high=0.1, size=d))\n",
        "\n",
        "matrix_info(cov)\n",
        "simulate(cov, 5, verbose=0)\n",
        "simulate(cov, 10, verbose=0)"
      ],
      "metadata": {
        "colab": {
          "base_uri": "https://localhost:8080/"
        },
        "id": "NT6PZ1GSt9qV",
        "outputId": "3a5054a2-6b2c-4630-ee9e-fbeac48dfea9"
      },
      "execution_count": null,
      "outputs": [
        {
          "output_type": "stream",
          "name": "stdout",
          "text": [
            "Generated matrix:\n",
            " [[ 3.3687  2.6233  2.9034  1.6154]\n",
            " [ 2.6233  6.024  -0.3621  0.5907]\n",
            " [ 2.9034 -0.3621  4.5241  1.9223]\n",
            " [ 1.6154  0.5907  1.9223  0.9832]]\n",
            "Checking matrix...\n",
            " - Spectral radius >= 1\n",
            "Inverse of matrix:\n",
            " [[ 7.3947 -3.1854 -3.8478 -2.7132]\n",
            " [-3.1854  1.7476  2.4012 -0.5109]\n",
            " [-3.8478  2.4012  4.7814 -4.4688]\n",
            " [-2.7132 -0.5109 -4.4688 14.5193]]\n",
            "* Approximate inverse of matrix with order-5:\n",
            " [[1258.8874 1121.6934 1026.5792  594.5156]\n",
            " [1121.6934 1321.8698  698.0011  474.2211]\n",
            " [1026.5792  698.0011  997.5838  526.3773]\n",
            " [ 594.5156  474.2211  526.3773  296.5561]]\n",
            "* Approximate inverse of matrix with order-10:\n",
            " [[-37662233.0927 -34544792.3638 -30204991.0752 -17687579.3177]\n",
            " [-34544792.3638 -32576285.0833 -27082934.9851 -16061392.9741]\n",
            " [-30204991.0752 -27082934.9851 -24658378.5944 -14298542.1324]\n",
            " [-17687579.3177 -16061392.9741 -14298542.1324  -8336233.597 ]]\n"
          ]
        }
      ]
    },
    {
      "cell_type": "markdown",
      "source": [
        "#### Code from paper:"
      ],
      "metadata": {
        "id": "ZWoFgHcUyxcr"
      }
    },
    {
      "cell_type": "markdown",
      "source": [
        "https://github.com/marineLM/NeuMiss_sota/blob/master/src/generate_example_dataset.py"
      ],
      "metadata": {
        "id": "zDNO-Yky8o8c"
      }
    },
    {
      "cell_type": "code",
      "source": [
        "# Data is generated by a linear model, with multivariate Gaussian distribution\n",
        "from scipy.stats import multivariate_normal\n",
        "def generate_data(d):\n",
        "    rng = check_random_state(0)\n",
        "\n",
        "    n = 10\n",
        "\n",
        "    B = rng.randn(d, d//2)\n",
        "    cov = B.dot(B.T) + np.diag(rng.uniform(low=0.01, high=0.1, size=d))\n",
        "\n",
        "    matrix_info(cov)\n",
        "    simulate(cov, 5, verbose=0)\n",
        "    simulate(cov, 10, verbose=0)\n",
        "\n",
        "    mean = rng.randn(d)\n",
        "    X = rng.multivariate_normal(\n",
        "        mean=mean, cov=cov, size=n, check_valid='raise'\n",
        "    )\n",
        "\n",
        "    return X\n",
        "\n",
        "X = generate_data(4)\n",
        "# X"
      ],
      "metadata": {
        "colab": {
          "base_uri": "https://localhost:8080/"
        },
        "id": "-aviLqRRyywk",
        "outputId": "3b3d0b02-e436-4f26-9419-18b8b4984e30"
      },
      "execution_count": null,
      "outputs": [
        {
          "output_type": "stream",
          "name": "stdout",
          "text": [
            "Generated matrix:\n",
            " [[ 3.3687  2.6233  2.9034  1.6154]\n",
            " [ 2.6233  6.024  -0.3621  0.5907]\n",
            " [ 2.9034 -0.3621  4.5241  1.9223]\n",
            " [ 1.6154  0.5907  1.9223  0.9832]]\n",
            "Checking matrix...\n",
            " - Spectral radius >= 1\n",
            "Inverse of matrix:\n",
            " [[ 7.3947 -3.1854 -3.8478 -2.7132]\n",
            " [-3.1854  1.7476  2.4012 -0.5109]\n",
            " [-3.8478  2.4012  4.7814 -4.4688]\n",
            " [-2.7132 -0.5109 -4.4688 14.5193]]\n",
            "* Approximate inverse of matrix with order-5:\n",
            " [[1258.8874 1121.6934 1026.5792  594.5156]\n",
            " [1121.6934 1321.8698  698.0011  474.2211]\n",
            " [1026.5792  698.0011  997.5838  526.3773]\n",
            " [ 594.5156  474.2211  526.3773  296.5561]]\n",
            "* Approximate inverse of matrix with order-10:\n",
            " [[-37662233.0927 -34544792.3638 -30204991.0752 -17687579.3177]\n",
            " [-34544792.3638 -32576285.0833 -27082934.9851 -16061392.9741]\n",
            " [-30204991.0752 -27082934.9851 -24658378.5944 -14298542.1324]\n",
            " [-17687579.3177 -16061392.9741 -14298542.1324  -8336233.597 ]]\n"
          ]
        }
      ]
    }
  ]
}